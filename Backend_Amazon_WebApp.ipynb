{
  "nbformat": 4,
  "nbformat_minor": 0,
  "metadata": {
    "colab": {
      "provenance": [],
      "include_colab_link": true
    },
    "kernelspec": {
      "name": "python3",
      "display_name": "Python 3"
    },
    "language_info": {
      "name": "python"
    }
  },
  "cells": [
    {
      "cell_type": "markdown",
      "metadata": {
        "id": "view-in-github",
        "colab_type": "text"
      },
      "source": [
        "<a href=\"https://colab.research.google.com/github/Skaipe12/Data_science/blob/main/Backend_Amazon_WebApp.ipynb\" target=\"_parent\"><img src=\"https://colab.research.google.com/assets/colab-badge.svg\" alt=\"Open In Colab\"/></a>"
      ]
    },
    {
      "cell_type": "code",
      "execution_count": null,
      "metadata": {
        "id": "JzRzJVT3Bnfj"
      },
      "outputs": [],
      "source": [
        "!pip install fastapi nest-asyncio pyngrok uvicorn"
      ]
    },
    {
      "cell_type": "code",
      "source": [
        "!pip install mysql-connector-python"
      ],
      "metadata": {
        "id": "Qsj2SnVXEB3X"
      },
      "execution_count": null,
      "outputs": []
    },
    {
      "cell_type": "code",
      "source": [
        "from fastapi import FastAPI\n",
        "from fastapi.middleware.cors import CORSMiddleware\n",
        "import mysql.connector\n",
        "from pydantic import BaseModel\n",
        "from typing import List\n",
        "import pandas as pd\n",
        "from sklearn.metrics.pairwise import cosine_similarity\n",
        "from scipy.sparse import csr_matrix"
      ],
      "metadata": {
        "id": "mBbCamcbEs5w"
      },
      "execution_count": null,
      "outputs": []
    },
    {
      "cell_type": "markdown",
      "source": [
        "Endpoint1"
      ],
      "metadata": {
        "id": "ynZ68yXXGleA"
      }
    },
    {
      "cell_type": "code",
      "source": [
        "class ItemsList(BaseModel):\n",
        "    items: List[int]\n",
        "\n",
        "app = FastAPI()\n",
        "app.add_middleware(CORSMiddleware,allow_origins=[\"*\"],allow_credentials=True,allow_methods=[\"*\"],allow_headers=[\"*\"])\n",
        "user_item_matrix = pd.read_csv(\"/content/user_item_matrix.csv\")\n",
        "\n",
        "def recomended_prod(car_items):\n",
        "  cart_vector = user_item_matrix.iloc[:, car_items].sum(axis=1)\n",
        "  user_item_matrix_t=user_item_matrix.transpose()\n",
        "  similitary_scores=cosine_similarity(cart_vector.values.reshape(1,-1),user_item_matrix_t)\n",
        "  similiar_users=similitary_scores.argsort()[0][::-1][:3]\n",
        "\n",
        "  similar_users_matrix = user_item_matrix.iloc[similiar_users, :]\n",
        "  similar_users_vector = similar_users_matrix.sum(axis=0)\n",
        "  already_purchased_items=set(car_items)\n",
        "\n",
        "  recomended_items=set(similar_users_vector.index)-already_purchased_items\n",
        "  recomended_items=list(recomended_items)[:3]\n",
        "  return recomended_items\n",
        "\n",
        "\n",
        "@app.get(\"/\")\n",
        "async def root():\n",
        "    mydb=mysql.connector.connect(host=\"aa18opju4pam1ik.c2xacwacu1dj.us-west-2.rds.amazonaws.com\", user=\"\",password=\"\",database=\"\")\n",
        "    mycursor=mydb.cursor(buffered=True,dictionary=True)\n",
        "\n",
        "    mycursor.execute(\"SELECT * FROM ebdb.flashpedidos_product_info LIMIT 10\")\n",
        "    list_product=mycursor.fetchall()\n",
        "    send_list=[]\n",
        "    for i in list_product:\n",
        "        dict_1={}\n",
        "        dict_1[\"id\"]=i[\"id\"]\n",
        "        dict_1[\"product_name\"]=i[\"product_name\"]\n",
        "        dict_1[\"product_price\"]=i[\"product_price\"]\n",
        "        id=i[\"id\"]\n",
        "        mycursor.execute(\"SELECT * FROM ebdb.flashpedidos_image_product_info WHERE id_product_id=%s\",(id,))\n",
        "        image_product=mycursor.fetchall()\n",
        "        dict_1[\"product_image\"]=image_product[0][\"product_picture\"]\n",
        "        send_list.append(dict_1)\n",
        "\n",
        "    return{\"data\":send_list}"
      ],
      "metadata": {
        "id": "paONkkk3FIPI"
      },
      "execution_count": null,
      "outputs": []
    },
    {
      "cell_type": "markdown",
      "source": [
        "Endpoint 2 items recomendados"
      ],
      "metadata": {
        "id": "-db5C5gw5J15"
      }
    },
    {
      "cell_type": "code",
      "source": [
        "@app.post('/recomended_products')\n",
        "async def recomended_products(items: ItemsList):\n",
        "  print(items)\n",
        "  mydb=mysql.connector.connect(host=\"aa18opju4pam1ik.c2xacwacu1dj.us-west-2.rds.amazonaws.com\", user=\"flashadmin\",password=\"est23loz55\",database=\"ebdb\")\n",
        "  mycursor=mydb.cursor(buffered=True,dictionary=True)\n",
        "  item_array=items.items\n",
        "  recomended_products=recomended_prod(item_array)\n",
        "  send_list=[]\n",
        "  for i in recomended_products:\n",
        "    try:\n",
        "        mycursor.execute(\"SELECT * FROM ebdb.flashpedidos_product_info WHERE id = %s\", (int(i),))\n",
        "        product=mycursor.fetchall()\n",
        "        print(product[0])\n",
        "        dict_1={}\n",
        "        dict_1[\"id\"]=product[0][\"id\"]\n",
        "        dict_1[\"product_name\"]=product[0][\"product_name\"]\n",
        "        dict_1[\"product_price\"]=product[0][\"product_price\"]\n",
        "        id=product[0][\"id\"]\n",
        "        mycursor.execute(\"SELECT * FROM ebdb.flashpedidos_image_product_info WHERE id_product_id = %s\", (id,))\n",
        "        image_product=mycursor.fetchall()\n",
        "        dict_1[\"image_product\"]=image_product\n",
        "        send_list.append(dict_1)\n",
        "    except:\n",
        "      print(\"Producto no existe\")\n",
        "\n",
        "\n",
        "\n",
        "  return {\"result\":send_list}"
      ],
      "metadata": {
        "id": "2klsSBHB5E7Y"
      },
      "execution_count": null,
      "outputs": []
    },
    {
      "cell_type": "code",
      "source": [
        "import nest_asyncio\n",
        "from pyngrok import ngrok\n",
        "import uvicorn\n",
        "\n",
        "ngrook_tunnel= ngrok.connect(8000)\n",
        "print(\"servidor: \",ngrook_tunnel.public_url)\n",
        "nest_asyncio.apply()\n",
        "uvicorn.run(app,port=8000)"
      ],
      "metadata": {
        "id": "FQw-tR6MGnS3"
      },
      "execution_count": null,
      "outputs": []
    }
  ]
}